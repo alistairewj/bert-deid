{
 "cells": [
  {
   "cell_type": "code",
   "execution_count": null,
   "metadata": {},
   "outputs": [],
   "source": [
    "import os\n",
    "\n",
    "import pandas as pd\n",
    "\n",
    "from bert_deid.model import Transformer"
   ]
  },
  {
   "cell_type": "markdown",
   "metadata": {},
   "source": [
    "### Load in model"
   ]
  },
  {
   "cell_type": "code",
   "execution_count": null,
   "metadata": {},
   "outputs": [],
   "source": [
    "# load in a trained model\n",
    "model_type = 'bert'\n",
    "model_path = '/data/models/bert-i2b2-2014'\n",
    "\n",
    "# load in a trained model\n",
    "deid_model = Transformer(\n",
    "    model_type, model_path, device='cpu'\n",
    ")"
   ]
  },
  {
   "cell_type": "code",
   "execution_count": null,
   "metadata": {},
   "outputs": [],
   "source": [
    "\n",
    "text = 'Dr. Somayah says I have had a pneumothorax since 2019-01-01.'\n",
    "print(deid_model.apply(text, repl='___'))"
   ]
  },
  {
   "cell_type": "code",
   "execution_count": null,
   "metadata": {},
   "outputs": [],
   "source": [
    "\n",
    "# we can also get the original predictions\n",
    "preds, lengths, offsets = deid_model.predict(text)\n",
    "\n",
    "# print out the identified entities\n",
    "for p in range(preds.shape[0]):\n",
    "    start, stop = offsets[p], offsets[p] + lengths[p]\n",
    "\n",
    "    # most likely prediction\n",
    "    idxMax = preds[p].argmax()\n",
    "    label = deid_model.label_set.id_to_label[idxMax]\n",
    "    print(f'{text[start:stop]:15s} {label}')"
   ]
  },
  {
   "cell_type": "markdown",
   "metadata": {},
   "source": [
    "### Load in text files"
   ]
  },
  {
   "cell_type": "code",
   "execution_count": null,
   "metadata": {},
   "outputs": [],
   "source": [
    "base_path = 'tests/fake-data/radiology-reports/txt'\n",
    "reports_list = os.listdir(base_path)\n",
    "reports_list.sort()\n",
    "\n",
    "reports = {}\n",
    "for f in reports_list:\n",
    "    with open(os.path.join(base_path, f), 'r') as fp:\n",
    "        reports[f] = ''.join(fp.readlines())"
   ]
  },
  {
   "cell_type": "markdown",
   "metadata": {},
   "source": [
    "### Run bert-deid"
   ]
  },
  {
   "cell_type": "code",
   "execution_count": null,
   "metadata": {},
   "outputs": [],
   "source": [
    "anns_bert = {}\n",
    "for f in reports_list:\n",
    "    print(f'De-identifying {f}')\n",
    "    \n",
    "    text = reports[f]\n",
    "    \n",
    "    # ann with bert\n",
    "    preds, lengths, offsets = deid_model.predict(text)\n",
    "    \n",
    "    entities = [\n",
    "        deid_model.label_set.id_to_label[x]\n",
    "        for x in np.argmax(preds, axis=1)\n",
    "    ]\n",
    "    \n",
    "    idxPHI = np.where(entities != 'O')[0]\n",
    "    print(f'\\n{f} PHI annotations:')\n",
    "    for i in idxPHI:\n",
    "        # print some context with PHI\n",
    "        start = max(offsets[i] - 20, 0)\n",
    "        stop = min(offsets[i] + lengths[i] + 20, len(text))\n",
    "        \n",
    "        print(text[start:offsets[i]], end='')\n",
    "        print(f'**{text[offsets[i]:offsets[i]+lengths[i]]}**', end='')\n",
    "        print(text[offsets[i]+lengths[i]:stop])    "
   ]
  }
 ],
 "metadata": {
  "kernelspec": {
   "display_name": "ed37",
   "language": "python",
   "name": "ed37"
  },
  "language_info": {
   "codemirror_mode": {
    "name": "ipython",
    "version": 3
   },
   "file_extension": ".py",
   "mimetype": "text/x-python",
   "name": "python",
   "nbconvert_exporter": "python",
   "pygments_lexer": "ipython3",
   "version": "3.7.3"
  }
 },
 "nbformat": 4,
 "nbformat_minor": 2
}